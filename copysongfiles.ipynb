{
 "cells": [
  {
   "cell_type": "code",
   "execution_count": 5,
   "metadata": {
    "colab": {
     "base_uri": "https://localhost:8080/"
    },
    "executionInfo": {
     "elapsed": 240088,
     "status": "ok",
     "timestamp": 1655914472979,
     "user": {
      "displayName": "מעיין גלבוים",
      "userId": "03651268504241808015"
     },
     "user_tz": -180
    },
    "id": "vBAnCdIA9Xgc",
    "outputId": "6b75f5db-d057-4c42-9846-b495d42e31da"
   },
   "outputs": [
    {
     "name": "stdout",
     "output_type": "stream",
     "text": [
      "Song lists from full data set\n",
      "['Music Delta - Hendrix', 'Titanium - Haunted Age', 'James May - All Souls Moon', 'Alexander Ross - Goodbye Bolero', \"The Wrong'Uns - Rothko\", 'Music Delta - 80s Rock', 'Johnny Lokke - Whisper To A Scream', 'Traffic Experiment - Sirens', 'Helado Negro - Mitad Del Mundo', 'Alexander Ross - Velvet Curtain', 'ANiMAL - Clinic A', 'Angela Thomas Wade - Milk Cow Blues', 'Atlantis Bound - It Was My Fault For Waiting', 'Leaf - Wicked', 'Music Delta - Country1', 'The So So Glos - Emergency', 'Patrick Talbot - A Reason To Leave', 'Music Delta - Punk', 'Young Griffo - Facade', 'James May - Dont Let Go', 'Secret Mountains - High Horse', 'Cnoc An Tursa - Bannockburn', 'James May - On The Line', 'Jay Menon - Through My Eyes', 'North To Alaska - All The Same', 'ANiMAL - Easy Tiger', 'Hollow Ground - Left Blind', \"Phre The Eon - Everybody's Falling Apart\", 'Celestial Shore - Die For Us', 'Clara Berry And Wooldog - Waltz For My Victims', 'Music Delta - Beatles', 'Creepoid - OldTree', 'Leaf - Summerghost', 'ANiMAL - Rockshow', 'Fergessen - Back From The Start', 'Skelpolu - Together Alone', 'BigTroubles - Phantom', 'Wall Of Death - Femme', 'Patrick Talbot - Set Me Free', 'Meaxic - Take A Step', 'Music Delta - Rock', 'A Classic Education - NightOwl', 'Music Delta - Britpop', 'Triviul - Angelsaint', 'Sweet Lights - You Let Me Down', 'Music Delta - Rockabilly', 'The Scarlet Brand - Les Fleurs Du Mal', 'Black Bloc - If You Want Success', 'Giselle - Moss', 'Remember December - C U Next Time', 'The Districts - Vermont', 'Hop Along - Sister Cities', 'Dreamers Of The Ghetto - Heavy Love', 'Dark Ride - Burning Bridges', 'James May - If You Say', 'Port St Willow - Stay Even', 'Drumtracks - Ghost Bitch', 'Faces On Film - Waiting For Ga', 'Grants - PunchDrunk', 'Music Delta - Gospel', 'Fergessen - The Wind', 'Johnny Lokke - Promises & Lies', 'Young Griffo - Pennies', 'The Long Wait - Back Home To Blue', 'Fergessen - Nos Palpitants', 'Music Delta - Grunge', 'Auctioneer - Our Future Faces', 'Actions - South Of The Water', 'Clara Berry And Wooldog - Stella', 'Lushlife - Toynbee Suite', 'Snowmine - Curfews', 'Matthew Entwistle - Dont You Ever', 'Clara Berry And Wooldog - Air Traffic', 'Jokers, Jacks & Kings - Sea Of Leaves', 'Night Panther - Fire', 'Invisible Familiars - Disturbing Wildlife', 'Strand Of Oaks - Spacestation', 'Tim Taler - Stalker', 'Flags - 54', 'AvaLuna - Waterduct', 'Swinging Steaks - Lost My Way', 'Chris Durban - Celebrate', 'Music Delta - Disco', 'Meaxic - You Listen', 'Music Delta - Country2', 'Triviul - Dorothy', 'Steven Clark - Bounty', 'Hezekiah Jones - Borrowed Heart', \"Actions - Devil's Words\", 'Actions - One Minute Smile', 'Young Griffo - Blood To Bone', 'Traffic Experiment - Once More (With Feeling)', 'St Vitus - Word Gets Around', \"Spike Mullings - Mike's Sulking\", 'Aimee Norwich - Child', 'Bill Chudziak - Children Of No-one', 'Leaf - Come Around', 'Music Delta - Reggae', 'Voelund - Comfort Lives In Belief', 'Skelpolu - Human Mistakes']\n",
      "***********************\n",
      "['Punkdisco - Oral Hygiene', 'Louis Cressy Band - Good Time', 'Side Effects Project - Sing With Me', 'Bobby Nobody - Stitch Up', \"Ben Carrigan - We'll Talk About It All Tonight\", 'Tom McKenzie - Directions', 'Arise - Run Run Run', 'Enda Reilly - Cur An Long Ag Seol', \"Juliet's Rescue - Heartbeats\", 'The Easton Ellises (Baumi) - SDRNR']\n",
      "0\n",
      "1\n",
      "2\n",
      "3\n",
      "0\n",
      "1\n",
      "2\n",
      "3\n",
      "4\n",
      "5\n",
      "6\n",
      "7\n",
      "8\n",
      "9\n"
     ]
    }
   ],
   "source": [
    "from pathlib import Path\n",
    "import os\n",
    "import shutil\n",
    "Datasetpath =  Path('/home/paperspace/Source_Sep_Rea/DataSets/musdb18hq')\n",
    "Subdatasetpath = Path('/home/paperspace/Source_Sep_Rea/DataSets/musdb18hqsubset')\n",
    "trainsongs = 4\n",
    "testsongs = 10\n",
    "##########################################\n",
    "sizes = [trainsongs,testsongs]\n",
    "trainsonglist = []\n",
    "testsonglist = []\n",
    "lists = [trainsonglist,testsonglist]\n",
    "trainpath = Datasetpath / 'train'\n",
    "testpath = Datasetpath / 'test'\n",
    "paths = [trainpath,testpath]\n",
    "for i in range(len(paths)):\n",
    "    path = paths[i]\n",
    "    songlist = lists[i]\n",
    "    for root, folders, files in os.walk(path, followlinks=True):\n",
    "        root = Path(root)\n",
    "        if root.name.startswith('.') or folders or root == path:\n",
    "            continue\n",
    "        name = str(root.relative_to(path))\n",
    "        songlist.append(name)\n",
    "\n",
    "print(\"Song lists from full data set\")\n",
    "print(trainsonglist)\n",
    "print(\"***********************\")\n",
    "print(testsonglist)\n",
    "############################################\n",
    "\n",
    "subtrainpath = Subdatasetpath / 'train'\n",
    "subtestpath = Subdatasetpath / 'test'\n",
    "subpaths = [subtrainpath,subtestpath]\n",
    "for i in range(len(subpaths)):\n",
    "    if os.path.exists(subpaths[i]):\n",
    "        shutil.rmtree(subpaths[i])\n",
    "    songlist = lists[i]\n",
    "    for j in range(sizes[i]):\n",
    "        SongPath = paths[i] / songlist[j]\n",
    "        print(j)\n",
    "        shutil.copytree(SongPath, subpaths[i] / songlist[j])"
   ]
  },
  {
   "cell_type": "code",
   "execution_count": null,
   "metadata": {},
   "outputs": [],
   "source": []
  }
 ],
 "metadata": {
  "colab": {
   "authorship_tag": "ABX9TyPIAdMwXmMo+Mt/fVSipd8z",
   "collapsed_sections": [],
   "name": "copysongfiles.ipynb",
   "provenance": []
  },
  "kernelspec": {
   "display_name": "Python 3 (ipykernel)",
   "language": "python",
   "name": "python3"
  },
  "language_info": {
   "codemirror_mode": {
    "name": "ipython",
    "version": 3
   },
   "file_extension": ".py",
   "mimetype": "text/x-python",
   "name": "python",
   "nbconvert_exporter": "python",
   "pygments_lexer": "ipython3",
   "version": "3.8.10"
  }
 },
 "nbformat": 4,
 "nbformat_minor": 1
}
